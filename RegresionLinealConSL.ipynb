{
  "nbformat": 4,
  "nbformat_minor": 0,
  "metadata": {
    "colab": {
      "name": "RegresionLinealConSL.ipynb",
      "provenance": [],
      "authorship_tag": "ABX9TyMoEV4bTeGnJ2A1Ph6KR5JL",
      "include_colab_link": true
    },
    "kernelspec": {
      "name": "python3",
      "display_name": "Python 3"
    },
    "language_info": {
      "name": "python"
    }
  },
  "cells": [
    {
      "cell_type": "markdown",
      "metadata": {
        "id": "view-in-github",
        "colab_type": "text"
      },
      "source": [
        "<a href=\"https://colab.research.google.com/github/pedrorotta/LinearRegression_ClaseGratuita/blob/main/RegresionLinealConSL.ipynb\" target=\"_parent\"><img src=\"https://colab.research.google.com/assets/colab-badge.svg\" alt=\"Open In Colab\"/></a>"
      ]
    },
    {
      "cell_type": "code",
      "metadata": {
        "id": "rwXy7YZp4txv"
      },
      "source": [
        "import numpy as np\n",
        "import matplotlib.pyplot as plt\n",
        "from sklearn.linear_model import LinearRegression\n",
        "import pandas as pd"
      ],
      "execution_count": 38,
      "outputs": []
    },
    {
      "cell_type": "markdown",
      "metadata": {
        "id": "k-A7-SYkKt-N"
      },
      "source": [
        "Luego de importar las librerías generamos una matriz x1 que es la que contiene los features. Nuevamente se han generado features aleatorios para ello.\n",
        "\n",
        "Los w_reales son los pesos reales que se usan para lograr tener el target real"
      ]
    },
    {
      "cell_type": "code",
      "metadata": {
        "id": "HIU7Sefp8tYx"
      },
      "source": [
        "x1 = np.random.rand(6,2)\n",
        "w_reales = np.array([2,-3])\n",
        "y = np.dot(w_reales,np.transpose(x1)) +10"
      ],
      "execution_count": 39,
      "outputs": []
    },
    {
      "cell_type": "markdown",
      "metadata": {
        "id": "F0_z6cUHLBsH"
      },
      "source": [
        "Podemos ver una tabla resumen de los valores de los features y el target. Cuando usamos la librería no es necesario generar el $theta_0$ puesto que se generará automaticamente en el algoritmo"
      ]
    },
    {
      "cell_type": "code",
      "metadata": {
        "colab": {
          "base_uri": "https://localhost:8080/",
          "height": 203
        },
        "id": "QOu-i5cI9udJ",
        "outputId": "63f0dbda-f3c7-4e6c-872d-0abc7601eaff"
      },
      "source": [
        "TablaDatos = pd.DataFrame({'feature1' : x1[:,0], 'feature2' : x1[:,1], 'target' :y})\n",
        "TablaDatos.head()"
      ],
      "execution_count": 40,
      "outputs": [
        {
          "output_type": "execute_result",
          "data": {
            "text/html": [
              "<div>\n",
              "<style scoped>\n",
              "    .dataframe tbody tr th:only-of-type {\n",
              "        vertical-align: middle;\n",
              "    }\n",
              "\n",
              "    .dataframe tbody tr th {\n",
              "        vertical-align: top;\n",
              "    }\n",
              "\n",
              "    .dataframe thead th {\n",
              "        text-align: right;\n",
              "    }\n",
              "</style>\n",
              "<table border=\"1\" class=\"dataframe\">\n",
              "  <thead>\n",
              "    <tr style=\"text-align: right;\">\n",
              "      <th></th>\n",
              "      <th>feature1</th>\n",
              "      <th>feature2</th>\n",
              "      <th>target</th>\n",
              "    </tr>\n",
              "  </thead>\n",
              "  <tbody>\n",
              "    <tr>\n",
              "      <th>0</th>\n",
              "      <td>0.834918</td>\n",
              "      <td>0.747497</td>\n",
              "      <td>9.427346</td>\n",
              "    </tr>\n",
              "    <tr>\n",
              "      <th>1</th>\n",
              "      <td>0.386300</td>\n",
              "      <td>0.462726</td>\n",
              "      <td>9.384422</td>\n",
              "    </tr>\n",
              "    <tr>\n",
              "      <th>2</th>\n",
              "      <td>0.454410</td>\n",
              "      <td>0.008090</td>\n",
              "      <td>10.884550</td>\n",
              "    </tr>\n",
              "    <tr>\n",
              "      <th>3</th>\n",
              "      <td>0.408390</td>\n",
              "      <td>0.858786</td>\n",
              "      <td>8.240423</td>\n",
              "    </tr>\n",
              "    <tr>\n",
              "      <th>4</th>\n",
              "      <td>0.332915</td>\n",
              "      <td>0.329629</td>\n",
              "      <td>9.676944</td>\n",
              "    </tr>\n",
              "  </tbody>\n",
              "</table>\n",
              "</div>"
            ],
            "text/plain": [
              "   feature1  feature2     target\n",
              "0  0.834918  0.747497   9.427346\n",
              "1  0.386300  0.462726   9.384422\n",
              "2  0.454410  0.008090  10.884550\n",
              "3  0.408390  0.858786   8.240423\n",
              "4  0.332915  0.329629   9.676944"
            ]
          },
          "metadata": {
            "tags": []
          },
          "execution_count": 40
        }
      ]
    },
    {
      "cell_type": "markdown",
      "metadata": {
        "id": "YAzvMod0LTb8"
      },
      "source": [
        "Para implementar el algoritmo se desarrolla en 2 lineas de código, esta ves no es necesario computarizar ninguna función adicional"
      ]
    },
    {
      "cell_type": "code",
      "metadata": {
        "colab": {
          "base_uri": "https://localhost:8080/"
        },
        "id": "3wQICFhaAHzw",
        "outputId": "84e822fb-6c71-4ffb-9b6c-5964e755651c"
      },
      "source": [
        "model = LinearRegression()\n",
        "model.fit(x1,y)"
      ],
      "execution_count": 41,
      "outputs": [
        {
          "output_type": "execute_result",
          "data": {
            "text/plain": [
              "LinearRegression(copy_X=True, fit_intercept=True, n_jobs=None, normalize=False)"
            ]
          },
          "metadata": {
            "tags": []
          },
          "execution_count": 41
        }
      ]
    },
    {
      "cell_type": "markdown",
      "metadata": {
        "id": "K1fJ8fUvLdxE"
      },
      "source": [
        "Los resultados del modelo se pueden ver como siguen. Como nos podemos dar cuenta, los valores de los parámetros son muy precisos"
      ]
    },
    {
      "cell_type": "code",
      "metadata": {
        "colab": {
          "base_uri": "https://localhost:8080/"
        },
        "id": "APN1TdwaIBHv",
        "outputId": "68a2ffe6-c65c-4f84-e5ae-cf17808b186c"
      },
      "source": [
        "print(f'el modelo tiene los coeficientes {model.coef_}')\n",
        "print(f'el modelo tiene un w_o igual a {model.intercept_}')"
      ],
      "execution_count": 42,
      "outputs": [
        {
          "output_type": "stream",
          "text": [
            "el modelo tiene los coeficientes [ 2. -3.]\n",
            "el modelo tiene un w_o igual a 10.0\n"
          ],
          "name": "stdout"
        }
      ]
    },
    {
      "cell_type": "markdown",
      "metadata": {
        "id": "0XDepVRAP3NB"
      },
      "source": [
        "Si realizamos la validación con datos que no ha visto el modelo, son bastante precisos"
      ]
    },
    {
      "cell_type": "code",
      "metadata": {
        "colab": {
          "base_uri": "https://localhost:8080/"
        },
        "id": "Ysl4MSKbBG9_",
        "outputId": "4450495f-f72a-49a8-cc68-14204608600a"
      },
      "source": [
        "x_test = np.random.rand(10,2)\n",
        "y_test = (np.dot(w_reales,np.transpose(x_test))+10).reshape(10,1)\n",
        "y_predict = model.predict(x_test)\n",
        "y_predict = y_predict.reshape(10,1)\n",
        "model.score(x_test,y_test)"
      ],
      "execution_count": 43,
      "outputs": [
        {
          "output_type": "execute_result",
          "data": {
            "text/plain": [
              "1.0"
            ]
          },
          "metadata": {
            "tags": []
          },
          "execution_count": 43
        }
      ]
    }
  ]
}