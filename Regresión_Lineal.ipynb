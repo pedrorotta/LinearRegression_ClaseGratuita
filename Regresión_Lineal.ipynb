{
  "nbformat": 4,
  "nbformat_minor": 0,
  "metadata": {
    "colab": {
      "name": "Regresión Lineal ",
      "provenance": [],
      "collapsed_sections": [],
      "authorship_tag": "ABX9TyMhXHK+YVZ/4ac6AURjMcHL",
      "include_colab_link": true
    },
    "kernelspec": {
      "name": "python3",
      "display_name": "Python 3"
    },
    "language_info": {
      "name": "python"
    }
  },
  "cells": [
    {
      "cell_type": "markdown",
      "metadata": {
        "id": "view-in-github",
        "colab_type": "text"
      },
      "source": [
        "<a href=\"https://colab.research.google.com/github/pedrorotta/LinearRegression_ClaseGratuita/blob/main/Regresi%C3%B3n_Lineal.ipynb\" target=\"_parent\"><img src=\"https://colab.research.google.com/assets/colab-badge.svg\" alt=\"Open In Colab\"/></a>"
      ]
    },
    {
      "cell_type": "markdown",
      "metadata": {
        "id": "9M328Vzdaqax"
      },
      "source": [
        "# Implementando un algoritmo de Regresión Lineal "
      ]
    },
    {
      "cell_type": "markdown",
      "metadata": {
        "id": "ciZiL5a7axm-"
      },
      "source": [
        "Solo algunas cosas para recordar : \n",
        "\n",
        "El objetivo de este algoritmo de Machine learning es obtener un modelo que resuelve mediante una hipótesis $h_θ(x)$ una predicción. \n",
        "\n",
        "<img src = \"https://raw.githubusercontent.com/pedrorotta/LinearRegression_ClaseGratuita/main/images/Ecuacion1.png\" height = 100 ></img>\n",
        "\n",
        "\n",
        "Para este objetivo se tiene que llegar a hallar los parámetros theta para la cual la hipótesis $h_θ(x)$ me den la mejor predicción y que me permitan que la función de costo $J(θ)$ sea practicamente 0 \n",
        "\n",
        "La función de costo queda descrita por la siguiente ecuación:\n",
        "\n",
        "<img src = \" https://raw.githubusercontent.com/pedrorotta/LinearRegression_ClaseGratuita/main/images/Ecuacion2.png\" height = 100></img>\n",
        "\n",
        "<p>Para ello se optimiza la función de costo o también llamada función de pérdida para cada theta, de tal forma que la optimización queda:</p>\n",
        "\n",
        "\n",
        "<img src = \"https://raw.githubusercontent.com/pedrorotta/LinearRegression_ClaseGratuita/main/images/Ecuacion3.png\" height = 100> </img>\n",
        "\n",
        "\n"
      ]
    },
    {
      "cell_type": "markdown",
      "metadata": {
        "id": "f6b5MDwEftLo"
      },
      "source": [
        "Primero lo implementaré sin utilizar librerías, es decir computarizando de manera directa las ecuaciones. Para este efecto usaré las librerías más básicas : Numpy, Pandas y Matplotlib"
      ]
    },
    {
      "cell_type": "code",
      "metadata": {
        "id": "bkmEyYlIaqJi"
      },
      "source": [
        "import numpy as np\n",
        "import matplotlib.pyplot as plt\n",
        "import pandas as pd"
      ],
      "execution_count": 252,
      "outputs": []
    },
    {
      "cell_type": "markdown",
      "metadata": {
        "id": "uKpTZlmh5cEy"
      },
      "source": [
        "<p>Primero vamos a generar un conjunto de pruebas, vamos a usar dos features y un target.</p> \n",
        "<p>En este ejemplo usaremos vectores aleatorios de la librería numpy.</p>\n",
        "<p>También se ha generado la variable x0, que como se explica es el feature dummie y todos los valores son $1$.</p> \n",
        "\n",
        "el objetivo $y$ será igual a una expresion $y = x1*2 - 3*x2 +10$  "
      ]
    },
    {
      "cell_type": "code",
      "metadata": {
        "id": "6LJ7y4Tcf1h4"
      },
      "source": [
        "np.set_printoptions(precision=2)\n",
        "x1 = np.random.rand(30,)\n",
        "x2 = np.random.rand(30,)\n",
        "x0 = np.ones(30,)\n",
        "y = x1*2-3*x2+10"
      ],
      "execution_count": 253,
      "outputs": []
    },
    {
      "cell_type": "markdown",
      "metadata": {
        "id": "oDB8twAVFVlK"
      },
      "source": [
        "Para poder visualizar los datos de entrenamiento de una manera más óptima para el espectador, vamos a generar una tabla de datos"
      ]
    },
    {
      "cell_type": "code",
      "metadata": {
        "colab": {
          "base_uri": "https://localhost:8080/",
          "height": 359
        },
        "id": "MYsh_Z2AFk6S",
        "outputId": "14dc6571-f750-48bb-a6c6-e46cd61cae57"
      },
      "source": [
        "TablaDeDatos = pd.DataFrame(data = {'feature1': x1, 'feature2': x2, 'target': y})\n",
        "TablaDeDatos.head(10)"
      ],
      "execution_count": 254,
      "outputs": [
        {
          "output_type": "execute_result",
          "data": {
            "text/html": [
              "<div>\n",
              "<style scoped>\n",
              "    .dataframe tbody tr th:only-of-type {\n",
              "        vertical-align: middle;\n",
              "    }\n",
              "\n",
              "    .dataframe tbody tr th {\n",
              "        vertical-align: top;\n",
              "    }\n",
              "\n",
              "    .dataframe thead th {\n",
              "        text-align: right;\n",
              "    }\n",
              "</style>\n",
              "<table border=\"1\" class=\"dataframe\">\n",
              "  <thead>\n",
              "    <tr style=\"text-align: right;\">\n",
              "      <th></th>\n",
              "      <th>feature1</th>\n",
              "      <th>feature2</th>\n",
              "      <th>target</th>\n",
              "    </tr>\n",
              "  </thead>\n",
              "  <tbody>\n",
              "    <tr>\n",
              "      <th>0</th>\n",
              "      <td>0.751073</td>\n",
              "      <td>0.399329</td>\n",
              "      <td>10.304159</td>\n",
              "    </tr>\n",
              "    <tr>\n",
              "      <th>1</th>\n",
              "      <td>0.331842</td>\n",
              "      <td>0.200202</td>\n",
              "      <td>10.063079</td>\n",
              "    </tr>\n",
              "    <tr>\n",
              "      <th>2</th>\n",
              "      <td>0.464915</td>\n",
              "      <td>0.670206</td>\n",
              "      <td>8.919213</td>\n",
              "    </tr>\n",
              "    <tr>\n",
              "      <th>3</th>\n",
              "      <td>0.243248</td>\n",
              "      <td>0.210595</td>\n",
              "      <td>9.854713</td>\n",
              "    </tr>\n",
              "    <tr>\n",
              "      <th>4</th>\n",
              "      <td>0.512817</td>\n",
              "      <td>0.404975</td>\n",
              "      <td>9.810708</td>\n",
              "    </tr>\n",
              "    <tr>\n",
              "      <th>5</th>\n",
              "      <td>0.844466</td>\n",
              "      <td>0.941697</td>\n",
              "      <td>8.863841</td>\n",
              "    </tr>\n",
              "    <tr>\n",
              "      <th>6</th>\n",
              "      <td>0.646794</td>\n",
              "      <td>0.108833</td>\n",
              "      <td>10.967089</td>\n",
              "    </tr>\n",
              "    <tr>\n",
              "      <th>7</th>\n",
              "      <td>0.315206</td>\n",
              "      <td>0.106496</td>\n",
              "      <td>10.310923</td>\n",
              "    </tr>\n",
              "    <tr>\n",
              "      <th>8</th>\n",
              "      <td>0.036816</td>\n",
              "      <td>0.601213</td>\n",
              "      <td>8.269993</td>\n",
              "    </tr>\n",
              "    <tr>\n",
              "      <th>9</th>\n",
              "      <td>0.779292</td>\n",
              "      <td>0.116427</td>\n",
              "      <td>11.209303</td>\n",
              "    </tr>\n",
              "  </tbody>\n",
              "</table>\n",
              "</div>"
            ],
            "text/plain": [
              "   feature1  feature2     target\n",
              "0  0.751073  0.399329  10.304159\n",
              "1  0.331842  0.200202  10.063079\n",
              "2  0.464915  0.670206   8.919213\n",
              "3  0.243248  0.210595   9.854713\n",
              "4  0.512817  0.404975   9.810708\n",
              "5  0.844466  0.941697   8.863841\n",
              "6  0.646794  0.108833  10.967089\n",
              "7  0.315206  0.106496  10.310923\n",
              "8  0.036816  0.601213   8.269993\n",
              "9  0.779292  0.116427  11.209303"
            ]
          },
          "metadata": {
            "tags": []
          },
          "execution_count": 254
        }
      ]
    },
    {
      "cell_type": "markdown",
      "metadata": {
        "id": "K8MuCgzPEnOs"
      },
      "source": [
        "Para ver un diagrama de disperción de los valores que hemos generado, podemos hacer uso de matplotlib"
      ]
    },
    {
      "cell_type": "code",
      "metadata": {
        "colab": {
          "base_uri": "https://localhost:8080/",
          "height": 248
        },
        "id": "ipGYBjcomfGI",
        "outputId": "ac7afa57-cd90-4c14-c6d9-5d9744e2c289"
      },
      "source": [
        "fig = plt.figure()\n",
        "ax = fig.add_subplot(projection='3d')\n",
        "ax.scatter3D(x1, x2, y)\n",
        "plt.show()"
      ],
      "execution_count": 255,
      "outputs": [
        {
          "output_type": "display_data",
          "data": {
            "image/png": "[encoded data removed]",
            "text/plain": [
              "<Figure size 432x288 with 1 Axes>"
            ]
          },
          "metadata": {
            "tags": [],
            "needs_background": "light"
          }
        }
      ]
    },
    {
      "cell_type": "markdown",
      "metadata": {
        "id": "ztx1BqIcJ7Qw"
      },
      "source": [
        "En la tabla extendida podemos observar que el feature dummie siempre va a ser 1 "
      ]
    },
    {
      "cell_type": "code",
      "metadata": {
        "colab": {
          "base_uri": "https://localhost:8080/",
          "height": 359
        },
        "id": "WH9BfySOJ8nC",
        "outputId": "2f5f8827-7c70-4167-ff8f-296075463c8b"
      },
      "source": [
        "TablaDeDatosExtendida = pd.DataFrame(data = {'feature dummie': x0, 'feature1': x1, 'feature2': x2, 'target': y})\n",
        "TablaDeDatosExtendida.head(10)"
      ],
      "execution_count": 256,
      "outputs": [
        {
          "output_type": "execute_result",
          "data": {
            "text/html": [
              "<div>\n",
              "<style scoped>\n",
              "    .dataframe tbody tr th:only-of-type {\n",
              "        vertical-align: middle;\n",
              "    }\n",
              "\n",
              "    .dataframe tbody tr th {\n",
              "        vertical-align: top;\n",
              "    }\n",
              "\n",
              "    .dataframe thead th {\n",
              "        text-align: right;\n",
              "    }\n",
              "</style>\n",
              "<table border=\"1\" class=\"dataframe\">\n",
              "  <thead>\n",
              "    <tr style=\"text-align: right;\">\n",
              "      <th></th>\n",
              "      <th>feature dummie</th>\n",
              "      <th>feature1</th>\n",
              "      <th>feature2</th>\n",
              "      <th>target</th>\n",
              "    </tr>\n",
              "  </thead>\n",
              "  <tbody>\n",
              "    <tr>\n",
              "      <th>0</th>\n",
              "      <td>1.0</td>\n",
              "      <td>0.751073</td>\n",
              "      <td>0.399329</td>\n",
              "      <td>10.304159</td>\n",
              "    </tr>\n",
              "    <tr>\n",
              "      <th>1</th>\n",
              "      <td>1.0</td>\n",
              "      <td>0.331842</td>\n",
              "      <td>0.200202</td>\n",
              "      <td>10.063079</td>\n",
              "    </tr>\n",
              "    <tr>\n",
              "      <th>2</th>\n",
              "      <td>1.0</td>\n",
              "      <td>0.464915</td>\n",
              "      <td>0.670206</td>\n",
              "      <td>8.919213</td>\n",
              "    </tr>\n",
              "    <tr>\n",
              "      <th>3</th>\n",
              "      <td>1.0</td>\n",
              "      <td>0.243248</td>\n",
              "      <td>0.210595</td>\n",
              "      <td>9.854713</td>\n",
              "    </tr>\n",
              "    <tr>\n",
              "      <th>4</th>\n",
              "      <td>1.0</td>\n",
              "      <td>0.512817</td>\n",
              "      <td>0.404975</td>\n",
              "      <td>9.810708</td>\n",
              "    </tr>\n",
              "    <tr>\n",
              "      <th>5</th>\n",
              "      <td>1.0</td>\n",
              "      <td>0.844466</td>\n",
              "      <td>0.941697</td>\n",
              "      <td>8.863841</td>\n",
              "    </tr>\n",
              "    <tr>\n",
              "      <th>6</th>\n",
              "      <td>1.0</td>\n",
              "      <td>0.646794</td>\n",
              "      <td>0.108833</td>\n",
              "      <td>10.967089</td>\n",
              "    </tr>\n",
              "    <tr>\n",
              "      <th>7</th>\n",
              "      <td>1.0</td>\n",
              "      <td>0.315206</td>\n",
              "      <td>0.106496</td>\n",
              "      <td>10.310923</td>\n",
              "    </tr>\n",
              "    <tr>\n",
              "      <th>8</th>\n",
              "      <td>1.0</td>\n",
              "      <td>0.036816</td>\n",
              "      <td>0.601213</td>\n",
              "      <td>8.269993</td>\n",
              "    </tr>\n",
              "    <tr>\n",
              "      <th>9</th>\n",
              "      <td>1.0</td>\n",
              "      <td>0.779292</td>\n",
              "      <td>0.116427</td>\n",
              "      <td>11.209303</td>\n",
              "    </tr>\n",
              "  </tbody>\n",
              "</table>\n",
              "</div>"
            ],
            "text/plain": [
              "   feature dummie  feature1  feature2     target\n",
              "0             1.0  0.751073  0.399329  10.304159\n",
              "1             1.0  0.331842  0.200202  10.063079\n",
              "2             1.0  0.464915  0.670206   8.919213\n",
              "3             1.0  0.243248  0.210595   9.854713\n",
              "4             1.0  0.512817  0.404975   9.810708\n",
              "5             1.0  0.844466  0.941697   8.863841\n",
              "6             1.0  0.646794  0.108833  10.967089\n",
              "7             1.0  0.315206  0.106496  10.310923\n",
              "8             1.0  0.036816  0.601213   8.269993\n",
              "9             1.0  0.779292  0.116427  11.209303"
            ]
          },
          "metadata": {
            "tags": []
          },
          "execution_count": 256
        }
      ]
    },
    {
      "cell_type": "markdown",
      "metadata": {
        "id": "rKQDmfYZKI_y"
      },
      "source": [
        "Precisemos algunas cosas : \n",
        "\n",
        "* Tenemos $30$ datos de entrenamiento, es decir: $m = 30$\n",
        "* Tenemos 2 Features, pero existirán 3 parámetros, es decir que\n",
        "$j_m = 3$ \n"
      ]
    },
    {
      "cell_type": "markdown",
      "metadata": {
        "id": "v82LmptZKxHa"
      },
      "source": [
        "Es hora de empezar con el algoritmo de entrenamiento. Para ello vamos a empezar definiendo Theta de manera aleatoria"
      ]
    },
    {
      "cell_type": "code",
      "metadata": {
        "id": "xCgK-GymqW83"
      },
      "source": [
        "Theta = np.random.rand(3,)"
      ],
      "execution_count": 257,
      "outputs": []
    },
    {
      "cell_type": "markdown",
      "metadata": {
        "id": "VPENnoajLDBj"
      },
      "source": [
        "La hipótesis seguirá una computarización como se expresa en la siguiente ecuación \n",
        "\n",
        "$h(x) = θ_0* x_0 + θ_1* x_1 +θ_2* x_2 $\n",
        "\n",
        "Donde $θ_0,θ_1,θ_2$ Son los parámetros y son escalares y al mismo tiempo  $x_0,x_1,x_2$ son vectores que representan a los datos de entrenamiento y $h(x)$ es un vector con 30 elementos que representa a todas las hipótesis\n",
        "\n"
      ]
    },
    {
      "cell_type": "code",
      "metadata": {
        "colab": {
          "base_uri": "https://localhost:8080/"
        },
        "id": "Un9b2vebrAaz",
        "outputId": "b8817a71-9c92-43e2-8ff1-4fb71d78552e"
      },
      "source": [
        "H_x = Theta[0]*x0 + Theta[1]*x1 + Theta[2]*x2\n",
        "H_x"
      ],
      "execution_count": 258,
      "outputs": [
        {
          "output_type": "execute_result",
          "data": {
            "text/plain": [
              "array([1.07, 0.97, 1.08, 0.95, 1.03, 1.2 , 0.99, 0.94, 1.01, 1.01, 1.17,\n",
              "       1.02, 0.97, 1.03, 1.08, 1.02, 1.03, 1.02, 1.2 , 0.99, 1.09, 1.15,\n",
              "       1.13, 1.03, 0.93, 1.05, 1.01, 1.04, 1.02, 0.94])"
            ]
          },
          "metadata": {
            "tags": []
          },
          "execution_count": 258
        }
      ]
    },
    {
      "cell_type": "markdown",
      "metadata": {
        "id": "siEJmunNMb4l"
      },
      "source": [
        "Si computarizamos la Función de costo por medio de una función de Python tenemos que decir que es una suma de todos los errores al cuadrado dentro del vector de $h(x)$ representado en código por `H_x`"
      ]
    },
    {
      "cell_type": "code",
      "metadata": {
        "id": "klvrkN2VrWvr"
      },
      "source": [
        "def FuncionDeCosto(hipotesisprima,y):\n",
        "  suma = 0 \n",
        "  error = (hipotesisprima - y)**2\n",
        "  for i in error:\n",
        "    suma = suma+i\n",
        "  ErrorCuadraticoMedio = suma/2\n",
        "  return ErrorCuadraticoMedio"
      ],
      "execution_count": 259,
      "outputs": []
    },
    {
      "cell_type": "markdown",
      "metadata": {
        "id": "TGe6ucNQMyql"
      },
      "source": [
        "Si computarizamos el valor de la Función de costo de esta hipótesis vemos que es muy grande, ¿a qué se debe? a que el algoritmo recién es un bebé, no ha entrenado nunca, es más los valores de θ que hemos utilizado, los hemos obtenido mediante un proceso aleatorio de numpy. "
      ]
    },
    {
      "cell_type": "code",
      "metadata": {
        "colab": {
          "base_uri": "https://localhost:8080/"
        },
        "id": "WVR39is1NIqS",
        "outputId": "358776a5-edeb-4d61-8109-735b0c055051"
      },
      "source": [
        "FuncionDeCosto(H_x,y)"
      ],
      "execution_count": 260,
      "outputs": [
        {
          "output_type": "execute_result",
          "data": {
            "text/plain": [
              "1171.4080494313944"
            ]
          },
          "metadata": {
            "tags": []
          },
          "execution_count": 260
        }
      ]
    },
    {
      "cell_type": "markdown",
      "metadata": {
        "id": "jCvKkbWnNiRp"
      },
      "source": [
        "Si queremos computarizar la hipotesis de cualquier valor de features con cualquier valor de Parámetros θ, podemos escribir la siguiente función. Te recomiendo que lo analices primero. \n",
        "\n",
        "Explicación : \n",
        "\n",
        "* SumaHipotesis es una variable que sumará cada componente $θ_j*x_j$ para cada vector $x_j$ que representa todos los datos de entrenamiento\n",
        "\n",
        "* Luego cada `SubHipotesis` representa la multiplicación de cada $θ_j*x_j$ para cada vector $x_j$ que representa a todos los datos de entrenamiento\n",
        "\n",
        "Como vemos la función de costo, es bastante alta debido a que no se ha entrenado aún, solo hemos calculado una hipótesis primaria con los valores aleatorios de θ"
      ]
    },
    {
      "cell_type": "code",
      "metadata": {
        "colab": {
          "base_uri": "https://localhost:8080/"
        },
        "id": "txbqEyuaP8If",
        "outputId": "68134427-74bc-493d-a286-905a30499f50"
      },
      "source": [
        "def hipotesis(ArrayDeFeatures, ArrayDeParametros):\n",
        "  sumaHipotesis = 0\n",
        "  for i in range(0,len(ArrayDeParametros)):\n",
        "    SubHipotesis = ArrayDeParametros[i]*ArrayDeFeatures[i]\n",
        "    sumaHipotesis = sumaHipotesis+SubHipotesis\n",
        "  return sumaHipotesis\n",
        "H_1 = hipotesis(np.array([x0,x1,x2]),Theta)\n",
        "print(FuncionDeCosto(H_1,y))"
      ],
      "execution_count": 261,
      "outputs": [
        {
          "output_type": "stream",
          "text": [
            "1171.4080494313944\n"
          ],
          "name": "stdout"
        }
      ]
    },
    {
      "cell_type": "markdown",
      "metadata": {
        "id": "e9PJHhYWPCHC"
      },
      "source": [
        "Para poder optimizar los valores de los parámetros $θ_j$ tenemos que hacer uso de la función de optimización : \n",
        "\n",
        "<img src = \"https://raw.githubusercontent.com/pedrorotta/LinearRegression_ClaseGratuita/main/images/Ecuacion3.png\"></img>\n",
        "\n",
        "Esta imagen muestra que el valor inicial de $θ_j$ se debe restar por la multiplicación del **learning rate** con una **sumatoria de errores simple** que será equivalente a : \n",
        "\n",
        "$Σ^m_i(h(x^i)-y^i)x^i_j$\n",
        "\n",
        "Para computarizar esta ecuación, podemos recurrir a definir una función SumaDeErroresSimples. \n",
        "\n",
        "Explicación de la función: \n",
        "\n",
        "* `x`  : Features ($x_j$)\n",
        "\n",
        "* `Hipotesis`  : Hipótesis\n",
        "\n",
        "* `y` : Target\n",
        "\n",
        "* `Theta` : Parámetros Theta\n",
        "\n",
        "* `lista_xj` : Una lista con los features $x_j$ incluyendo $x_0$. Es una lista con 3 elementos\n",
        "\n",
        "* `errorsimple` : Representa la diferencia entre los vectores de Hipóteisis y el vector de target. Es un vector con 30 elementos\n",
        "\n",
        "* `errorXj` : Representa un vector , donde los elementos son cada uno de los resultados al multiplicar $(h(x^i)-y^i)x^i_j$. Es un vector con 30 elementos. \n",
        "\n",
        "* `ListaErrorXj` : Una lista con todos los vectores `errorXj` que luego se van a sumar por cada $θ_j$. Es una lista con 3 vectores de 30 elementos cada uno. \n",
        "\n",
        "* `sumaerror` : Es una variable que va a ser usada para sumar cada error particular de cada `errorXj` y que devolverá el resultado de cuanto es el valor que se debe multiplicar al learning rate por cada $θ_j$\n",
        "\n",
        "* `ListaSumaErroresXj` : Es una lista con los valores que se van a usar para la optimización, representa un vector de 3 elementos en este caso ya que hay 3 parámetros θ\n",
        "\n",
        "* `ArraySumaErroresXj` : Es la variable `ListaSumaErroresXj` pero transformada a vector. "
      ]
    },
    {
      "cell_type": "code",
      "metadata": {
        "id": "tOBCUA3zr6VU"
      },
      "source": [
        "\n",
        "def SumaDeErroresSimples(x, Hipotesis, y, Theta):\n",
        "  lista_xj = x\n",
        "  errorsimple = (Hipotesis-y)\n",
        "  errorXj = 0\n",
        "  ListaErrorXj = []\n",
        "  sumaerror = 0\n",
        "  ListaSumaErroresXj = []\n",
        "  errorsimple = (Hipotesis-y)\n",
        "  for i in range(0,len(Theta)):\n",
        "      errorXj = errorsimple*lista_xj[i]\n",
        "      ListaErrorXj.append(errorXj)\n",
        "  \n",
        "  for error in ListaErrorXj:\n",
        "    for x in error: \n",
        "      sumaerror = sumaerror + x\n",
        "    ListaSumaErroresXj.append(sumaerror)\n",
        "    sumaerror = 0\n",
        "  ArraySumaErroresXj = np.array(ListaSumaErroresXj)\n",
        "  return ArraySumaErroresXj"
      ],
      "execution_count": 270,
      "outputs": []
    },
    {
      "cell_type": "markdown",
      "metadata": {
        "id": "OXxNZMLpWkmh"
      },
      "source": [
        "Con estas 3 funciones vamos a definir la función **LinearRegression** que entrenará a los valores durante varias iteraciones hasta converger. \n",
        "\n",
        "Una manera de que veas el resultado es correr esta función y probar un poco sus resultados. "
      ]
    },
    {
      "cell_type": "markdown",
      "metadata": {
        "id": "aulaEFHyXI3g"
      },
      "source": [
        "* `iter`  : Iteraciones\n",
        "\n",
        "* `x`  : Lista de features\n",
        "\n",
        "* `Hipotesis`  : Hipótesis\n",
        "\n",
        "* `y` : Target\n",
        "\n",
        "* `Theta` : Parámetros Theta\n",
        "\n",
        "* `umbral` : Valor de costo óptimo. Por defecto 0 \n",
        "\n",
        "* `learning_rate` : Valor por defecto = $0.001$\n",
        "\n",
        "* `ArrayDeParametros` : Parámetros $θ_j$ que es lo que queremos obtener. \n",
        "\n",
        "* `funcionDeCosto` : Función de costo al final de las iteraciones\n",
        "\n",
        "* `Historia` : Lista con todas las Funciones de costo en cada iteración\n"
      ]
    },
    {
      "cell_type": "code",
      "metadata": {
        "id": "ICczxOkawjBX"
      },
      "source": [
        "def LinearRegression(iter, x , y , theta = [], umbral = 0, learning_rate = 0.001):\n",
        "  ListaDeFeatures = x\n",
        "  Target = y\n",
        "  ParametrosIniciales = theta\n",
        "  ArrayDeFeatures = np.array(ListaDeFeatures)\n",
        "  TargetArray = np.array(Target)\n",
        "  ArrayDeParametros = np.array(ParametrosIniciales)\n",
        "  Historia = []\n",
        "  for i in range(0,iter):\n",
        "    Hipotesis = hipotesis(ArrayDeFeatures, ArrayDeParametros)\n",
        "    HipotesisValidacion = hipotesis\n",
        "    funcionDeCosto = FuncionDeCosto(Hipotesis,TargetArray)\n",
        "    Historia.append(funcionDeCosto)\n",
        "    if funcionDeCosto <= umbral:\n",
        "      return ArrayDeParametros, funcionDeCosto, Historia \n",
        "    else:\n",
        "      sumaDeerroresSimples = SumaDeErroresSimples(ArrayDeFeatures, Hipotesis, TargetArray, ArrayDeParametros)\n",
        "      ArrayDeParametros = ArrayDeParametros - learning_rate*sumaDeerroresSimples\n",
        "  return ArrayDeParametros, funcionDeCosto, Historia"
      ],
      "execution_count": 277,
      "outputs": []
    },
    {
      "cell_type": "markdown",
      "metadata": {
        "id": "kjHuzDp1aYuq"
      },
      "source": [
        "Entrenamiento: Si cambias el número de iteraciones en el modelo vas a poder ver la diferencia entre elegir un número de elementos bajos o altos. \n",
        "\n",
        "Si ves nuestra función elegida era : \n",
        "\n",
        "$y = x1*2 - 3*x2 +10$\n",
        "\n",
        "Al momento de iterar 100 veces nuestro modelo, obtenemos: \n",
        "\n",
        "* $θ_0 = 7.1$\n",
        "* $θ_1 = 3.43$\n",
        "* $θ_2 = 1.57$\n",
        "\n",
        "Por lo que los valores están cercanos, pero no son iguales\n",
        "\n",
        "También podemos ver que la función de costo es un poco alta ya que no está cercana a $0$. \n"
      ]
    },
    {
      "cell_type": "code",
      "metadata": {
        "colab": {
          "base_uri": "https://localhost:8080/"
        },
        "id": "1J5PBV2WXgYO",
        "outputId": "93b8f96f-3d7a-49c1-adc9-49084abea65b"
      },
      "source": [
        "iter = 100\n",
        "modelo =  LinearRegression(iter, [x0,x1,x2] , y , theta = Theta , umbral = 0.0000001, learning_rate = 0.001)\n",
        "parametros = modelo[0]\n",
        "funciondecosto = modelo[1]\n",
        "historiadecosto = modelo[2]\n",
        "print(parametros)\n",
        "print(f'la función de costo es {np.round(funciondecosto,2)}')"
      ],
      "execution_count": 286,
      "outputs": [
        {
          "output_type": "stream",
          "text": [
            "[7.1  3.43 1.57]\n",
            "la función de costo es 29.83\n"
          ],
          "name": "stdout"
        }
      ]
    },
    {
      "cell_type": "markdown",
      "metadata": {
        "id": "kMDs5Wt_bxgZ"
      },
      "source": [
        "Si ahora probamos con 1000 iteraciones\n",
        "\n",
        "* $θ_0 = 9.3$\n",
        "* $θ_1 = 2.65$\n",
        "* $θ_2 = -2.23$\n",
        "\n",
        "Los valores mejoran y la función de costo o función de pérdida baja también"
      ]
    },
    {
      "cell_type": "code",
      "metadata": {
        "colab": {
          "base_uri": "https://localhost:8080/"
        },
        "id": "ZSJaZMEubx9c",
        "outputId": "24f6b6ea-4737-45d1-ca80-cec8a2ccf416"
      },
      "source": [
        "iter = 1000\n",
        "modelo =  LinearRegression(iter, [x0,x1,x2] , y , theta = Theta , umbral = 0.0000001, learning_rate = 0.001)\n",
        "parametros = modelo[0]\n",
        "funciondecosto = modelo[1]\n",
        "historiadecosto = modelo[2]\n",
        "print(parametros)\n",
        "print(f'la función de costo es {np.round(funciondecosto,2)}')"
      ],
      "execution_count": 287,
      "outputs": [
        {
          "output_type": "stream",
          "text": [
            "[ 9.3   2.65 -2.23]\n",
            "la función de costo es 1.2\n"
          ],
          "name": "stdout"
        }
      ]
    },
    {
      "cell_type": "markdown",
      "metadata": {
        "id": "QsZjdoSpcsWx"
      },
      "source": [
        "El segundo modelo con 1000 iteraciones mejora bastante, podemos ver en una gráfica como varía la función de costo cuando aumentamos las iteraciones\n"
      ]
    },
    {
      "cell_type": "code",
      "metadata": {
        "colab": {
          "base_uri": "https://localhost:8080/",
          "height": 269
        },
        "id": "ZkwDX9oPc7q5",
        "outputId": "8ca510c1-5458-4c9c-f3f9-c61540f2d3f9"
      },
      "source": [
        "x_historia = np.arange(0,len(historia),1)\n",
        "y_historia = historia\n",
        "plt.plot(x_historia, y_historia)\n",
        "plt.show()"
      ],
      "execution_count": 288,
      "outputs": [
        {
          "output_type": "display_data",
          "data": {
            "image/png": "[encoded data removed]",
            "text/plain": [
              "<Figure size 432x288 with 1 Axes>"
            ]
          },
          "metadata": {
            "tags": [],
            "needs_background": "light"
          }
        }
      ]
    },
    {
      "cell_type": "markdown",
      "metadata": {
        "id": "ZG29_PYnc9i4"
      },
      "source": [
        "Ahora te toca a ti, cambia el número de iteraciones y comprueba los resultados"
      ]
    },
    {
      "cell_type": "code",
      "metadata": {
        "colab": {
          "base_uri": "https://localhost:8080/",
          "height": 304
        },
        "id": "EjH7si7vdCsQ",
        "outputId": "d827ecda-573e-4c2a-9f4d-18990e2e50c4"
      },
      "source": [
        "iter = 1000\n",
        "modelo =  LinearRegression(iter, [x0,x1,x2] , y , theta = Theta , umbral = 0.0000001, learning_rate = 0.001)\n",
        "parametros = modelo[0]\n",
        "funciondecosto = modelo[1]\n",
        "historiadecosto = modelo[2]\n",
        "print(parametros)\n",
        "print(f'la función de costo es {np.round(funciondecosto,2)}')\n",
        "\n",
        "x_historia = np.arange(0,len(historia),1)\n",
        "y_historia = historia\n",
        "plt.plot(x_historia, y_historia)\n",
        "plt.show()"
      ],
      "execution_count": 291,
      "outputs": [
        {
          "output_type": "stream",
          "text": [
            "[ 9.3   2.65 -2.23]\n",
            "la función de costo es 1.2\n"
          ],
          "name": "stdout"
        },
        {
          "output_type": "display_data",
          "data": {
            "image/png": "[encoded data removed]",
            "text/plain": [
              "<Figure size 432x288 with 1 Axes>"
            ]
          },
          "metadata": {
            "tags": [],
            "needs_background": "light"
          }
        }
      ]
    },
    {
      "cell_type": "markdown",
      "metadata": {
        "id": "AlDMXpSydRdc"
      },
      "source": [
        "Validación : Vamos a ver que tan bueno es nuestro modelo prediciendo datos que nunca ha visto. Vemos que al hayar la función de costo con un dato de x1 y x2 que nunca ha visto el modelo va bastante bien. "
      ]
    },
    {
      "cell_type": "code",
      "metadata": {
        "colab": {
          "base_uri": "https://localhost:8080/",
          "height": 302
        },
        "id": "6-kB1q62dZB5",
        "outputId": "d3fb44fe-6cba-48c2-dfd0-43377dd50edc"
      },
      "source": [
        "parametrosDelModelo = parametros\n",
        "x1_validation = np.random.rand(10,)\n",
        "x2_validation = np.random.rand(10,)\n",
        "x0 = np.ones(10,)\n",
        "x_validacion = np.array([x0,x1_validation,x2_validation])\n",
        "y_validacion = 10 + 2*x1_validation - 3*x2_validation\n",
        "hipotesis_validacion = hipotesis(x_validacion, parametrosDelModelo)\n",
        "funciondecosto_validacion = FuncionDeCosto(hipotesis_validacion, y_validacion)\n",
        "\n",
        "plt.scatter(y_validacion, hipotesis_validacion, c = 'red')\n",
        "plt.plot(y_validacion, y_validacion)\n",
        "\n",
        "print(f'para este dato de validación la hipotesis es {hipotesis_validacion}, el valor real es {y_validacion} y el error obtenido es {np.round(funciondecosto_validacion,5)}')"
      ],
      "execution_count": 309,
      "outputs": [
        {
          "output_type": "stream",
          "text": [
            "para este dato de validación la hipotesis es [ 9.78  9.42  9.01  8.89  9.15  9.12  9.41  7.88 10.02 10.63], el valor real es [ 9.22  9.16  9.53  8.92  9.52  9.62  9.56  7.9   9.53 10.38] y el error obtenido es 0.68504\n"
          ],
          "name": "stdout"
        },
        {
          "output_type": "display_data",
          "data": {
            "image/png": "[encoded data removed]",
            "text/plain": [
              "<Figure size 432x288 with 1 Axes>"
            ]
          },
          "metadata": {
            "tags": [],
            "needs_background": "light"
          }
        }
      ]
    },
    {
      "cell_type": "markdown",
      "metadata": {
        "id": "uOL2m3wyjQVY"
      },
      "source": [
        "Otra forma de medir que tan bueno es nuestro modelo es mediante el $R^2$ o también llamado precisión del modelo. que para una regresión lineal se puede hallar como sigue"
      ]
    },
    {
      "cell_type": "code",
      "metadata": {
        "colab": {
          "base_uri": "https://localhost:8080/"
        },
        "id": "DsLXhYiRirLD",
        "outputId": "801ba042-ce54-4f4b-9cee-09b4417776cc"
      },
      "source": [
        "def R2(y_verdadero, hipotesis):\n",
        "  y_verdadero = np.array(y_verdadero)\n",
        "  hipotesis = np.array(hipotesis)\n",
        "  corr = np.corrcoef(y_verdadero, hipotesis)\n",
        "  r2 = corr[0,1] ** 2\n",
        "  return r2\n",
        "\n",
        "r2_1 = R2(y_validacion, hipotesis_validacion)\n",
        "-print(f'La precisión del modelo para los datos de validación es de {np.round(r2_1,2)}')"
      ],
      "execution_count": 317,
      "outputs": [
        {
          "output_type": "stream",
          "text": [
            "La precisión del modelo para los datos de validación es de 0.72\n"
          ],
          "name": "stdout"
        }
      ]
    },
    {
      "cell_type": "code",
      "metadata": {
        "id": "4HJSLsKjljH4"
      },
      "source": [
        ""
      ],
      "execution_count": null,
      "outputs": []
    }
  ]
}